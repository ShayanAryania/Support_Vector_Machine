{
 "cells": [
  {
   "cell_type": "markdown",
   "metadata": {},
   "source": [
    "<img src=\"./sharif.png\" alt=\"SUT logo\" width=300 height=300 align=left class=\"saturate\">\n",
    "\n",
    "<br>\n",
    "<font>\n",
    "<div dir=ltr align=center>\n",
    "<font color=0F5298 size=7>\n",
    "    Machine Learning <br>\n",
    "<font color=2565AE size=5>\n",
    "    Computer Engineering Department <br>\n",
    "    Spring 2024<br>\n",
    "<font color=3C99D size=5>\n",
    "    Practical Assignment 3<br>\n",
    "<font color=696880 size=4>\n",
    "    Ashkan Majidi - Shayan Salehi - Amirhossein Alamdar\n",
    "\n",
    "____"
   ]
  },
  {
   "cell_type": "markdown",
   "metadata": {},
   "source": [
    "# Personal Data"
   ]
  },
  {
   "cell_type": "code",
   "execution_count": 1,
   "metadata": {},
   "outputs": [],
   "source": [
    "student_number = '402211767'\n",
    "first_name = 'Shayan'\n",
    "last_name = 'Aryania'"
   ]
  },
  {
   "cell_type": "markdown",
   "metadata": {},
   "source": [
    "# Introduction\n",
    "\n",
    "In this assignment, you will implement SVM (Support Vector Machines) for classification.\n"
   ]
  },
  {
   "cell_type": "markdown",
   "metadata": {},
   "source": [
    "# Data Preprocessing"
   ]
  },
  {
   "cell_type": "markdown",
   "metadata": {},
   "source": [
    "Import your needed libraries in following cell."
   ]
  },
  {
   "cell_type": "code",
   "execution_count": 1,
   "metadata": {},
   "outputs": [],
   "source": [
    "# TODO: Write your code here\n",
    "import numpy as np\n",
    "import pandas as pd\n",
    "import seaborn as sns\n",
    "import matplotlib.pyplot as plt\n",
    "from sklearn.svm import SVC\n",
    "from sklearn.model_selection import GridSearchCV\n",
    "from sklearn.preprocessing import StandardScaler \n",
    "from sklearn.model_selection import train_test_split\n",
    "from sklearn.metrics import accuracy_score, classification_report, confusion_matrix, balanced_accuracy_score"
   ]
  },
  {
   "cell_type": "markdown",
   "metadata": {},
   "source": [
    "Load data from ```satimage``` dataset and split data to features and labels. The ```label``` column is our target variable. "
   ]
  },
  {
   "cell_type": "code",
   "execution_count": 26,
   "metadata": {},
   "outputs": [],
   "source": [
    "# TODO: Write your code here\n",
    "\n",
    "data = pd.read_csv(\"./data/satimage.csv\")\n",
    "\n",
    "X = data.iloc[:,: -1]\n",
    "y = data.iloc[:,-1]"
   ]
  },
  {
   "cell_type": "code",
   "execution_count": 27,
   "metadata": {},
   "outputs": [
    {
     "name": "stdout",
     "output_type": "stream",
     "text": [
      "Features:\n",
      "      0         1         2         3         4         5          6       7  \\\n",
      "0   7.5  6.272730  4.047619  3.975208  3.032258  4.545455   8.421050  1.8125   \n",
      "1   7.5  4.090909 -0.714290  1.776858  2.903226  3.090909   5.052630 -1.7500   \n",
      "2  12.0  9.909090  8.333330  5.479339  3.354839  7.272730  10.526316  2.7500   \n",
      "3   7.5  4.818182  1.190480  2.702482  2.774194  2.363640   5.894740 -0.2500   \n",
      "4   7.5  4.818182  2.142860  2.702482  3.032258  3.090909   6.736840 -1.0000   \n",
      "\n",
      "        8         9  ...        26        27        28        29        30  \\\n",
      "0 -2.2500  0.077672  ... -0.517241 -0.600000 -0.138462 -0.188119 -0.431579   \n",
      "1 -2.2500  0.077672  ... -0.517241 -0.600000 -0.015385 -0.049505 -0.431579   \n",
      "2  3.4375  6.368924  ...  0.103448 -0.233333  0.200000  0.207921 -0.010526   \n",
      "3 -3.8750 -2.368924  ... -0.011494 -0.383333 -0.138462 -0.049505 -0.347368   \n",
      "4 -0.6250 -1.320388  ...  0.287356 -0.183333  0.230769  0.267327 -0.031579   \n",
      "\n",
      "         31       32        33        34        35  \n",
      "0 -0.546875 -0.15625 -0.126214 -0.431579 -0.484375  \n",
      "1 -0.609375 -0.15625 -0.126214 -0.494737 -0.609375  \n",
      "2 -0.312500 -0.15625  0.009709 -0.326316 -0.437500  \n",
      "3 -0.484375  0.09375  0.087379 -0.031579 -0.218750  \n",
      "4 -0.281250 -0.03125 -0.126214 -0.431579 -0.546875  \n",
      "\n",
      "[5 rows x 36 columns]\n"
     ]
    }
   ],
   "source": [
    "print(\"Features:\")\n",
    "print(X.head())"
   ]
  },
  {
   "cell_type": "code",
   "execution_count": 28,
   "metadata": {},
   "outputs": [
    {
     "name": "stdout",
     "output_type": "stream",
     "text": [
      "\n",
      "Labels:\n",
      "0    6.0\n",
      "1    6.0\n",
      "2    6.0\n",
      "3    6.0\n",
      "4    6.0\n",
      "Name: label, dtype: float64\n"
     ]
    }
   ],
   "source": [
    "print(\"\\nLabels:\")\n",
    "print(y.head())"
   ]
  },
  {
   "cell_type": "markdown",
   "metadata": {},
   "source": [
    "Now split data to train, validation and test parts. 60% of data should be used for train, 15% for validation and 25% for test. After that scale the data to Standard Normal Distribution using ```StandardScaler``` class from ```scikit-learn``` library."
   ]
  },
  {
   "cell_type": "code",
   "execution_count": 33,
   "metadata": {},
   "outputs": [],
   "source": [
    "# TODO: Write your code here\n",
    "X_train, X_temp, y_train, y_temp = train_test_split(X,y, test_size=0.4, random_state=42 )"
   ]
  },
  {
   "cell_type": "code",
   "execution_count": 34,
   "metadata": {},
   "outputs": [],
   "source": [
    "X_val, X_test, y_val, y_test = train_test_split(X_temp, y_temp, test_size =0.625, random_state=42 )"
   ]
  },
  {
   "cell_type": "code",
   "execution_count": 35,
   "metadata": {},
   "outputs": [],
   "source": [
    "scaler=StandardScaler()\n",
    "X_train_scaled = scaler.fit_transform(X_train)\n",
    "X_val_scaled = scaler.transform(X_val)\n",
    "X_test_scaled = scaler.transform(X_test)"
   ]
  },
  {
   "cell_type": "markdown",
   "metadata": {},
   "source": [
    "We want to train Binary SVM model for classification between labels 4 and 6. Choose corresponding datas and convert their lables to 1 and -1 respectively for 4 and 6."
   ]
  },
  {
   "cell_type": "code",
   "execution_count": 47,
   "metadata": {},
   "outputs": [
    {
     "name": "stdout",
     "output_type": "stream",
     "text": [
      "Model accuracy: 0.8238546603475514\n"
     ]
    }
   ],
   "source": [
    "# TODO: Write your code here\n",
    "mask = (y_train == 4) | (y_train == 6)\n",
    "X_train_binary = X_train_scaled[mask]\n",
    "y_train_binary = y_train[mask]\n",
    "\n",
    "y_train_binary = np.where(y_train_binary == 6, 1, -1)\n",
    "y_train_binary = np.where(y_train_binary == 4, -1, y_train_binary)\n",
    "\n",
    "svm_model = SVC(kernel='linear')\n",
    "svm_model.fit(X_train_binary, y_train_binary)\n",
    "\n",
    "accuracy = svm_model.score(X_train_binary, y_train_binary)\n",
    "print(\"Model accuracy:\", accuracy)"
   ]
  },
  {
   "cell_type": "code",
   "execution_count": 48,
   "metadata": {},
   "outputs": [],
   "source": [
    "mask_val = (y_val == 4) | (y_val == 6)\n",
    "X_val_binary = X_val_scaled[mask_val]\n",
    "y_val_binary = y_val[mask_val]\n",
    "\n",
    "y_val_binary = np.where(y_val_binary == 6, 1, -1)\n",
    "y_val_binary = np.where(y_val_binary == 4, -1, y_val_binary)\n",
    "\n",
    "mask_test = (y_test == 4) | (y_test == 6)\n",
    "X_test_binary = X_test_scaled[mask_test]\n",
    "y_test_binary = y_test[mask_test]\n",
    "\n",
    "y_test_binary = np.where(y_test_binary == 6, 1, -1)\n",
    "y_test_binary = np.where(y_test_binary == 4, -1, y_test_binary)\n"
   ]
  },
  {
   "cell_type": "markdown",
   "metadata": {},
   "source": [
    "# Model (50 points)"
   ]
  },
  {
   "cell_type": "markdown",
   "metadata": {},
   "source": [
    "Here is soft margin svm convex optimization formulation. \n",
    "$$\n",
    "\\begin{aligned}\n",
    "\\text { Minimize } & \\frac{1}{2}\\|\\mathbf{w}\\|^2+C \\sum_{i=1}^N \\xi_i \\\\\n",
    "\\text { Subject to } & y_i\\left(\\mathbf{w}^T \\mathbf{x}_i+b\\right) \\geq 1-\\xi_i, \\quad i=1,2, \\ldots, N \\\\\n",
    "& \\xi_i \\geq 0, \\quad i=1,2, \\ldots, N\n",
    "\\end{aligned}\n",
    "$$\n",
    "write dual of the soft margin svm optimization problem below:"
   ]
  },
  {
   "cell_type": "markdown",
   "metadata": {},
   "source": [
    "`TODO: Write Here`"
   ]
  },
  {
   "cell_type": "markdown",
   "metadata": {},
   "source": [
    "Now you should write this optimization problem in standard Quadratic Program (QP) form and use a QP solver to find optimal answer. Here is General form of a QP:\n",
    "$$\n",
    "\\begin{aligned}\n",
    "\\text { Minimize } & \\frac{1}{2} x^TPx + q^Tx + r \\\\\n",
    "\\text { Subject to } & Gx \\leq h \\\\\n",
    "& Ax = b\n",
    "\\end{aligned}\n",
    "$$\n",
    "\n",
    "Complete functions below and use ```cvxopt``` library which is a common library for solving QPs. Note that you can't use ```scikit-learn``` library.\n"
   ]
  },
  {
   "cell_type": "code",
   "execution_count": 21,
   "metadata": {},
   "outputs": [
    {
     "name": "stdout",
     "output_type": "stream",
     "text": [
      "Collecting cvxopt\n",
      "  Downloading cvxopt-1.3.2-cp312-cp312-macosx_10_9_x86_64.whl.metadata (1.3 kB)\n",
      "Downloading cvxopt-1.3.2-cp312-cp312-macosx_10_9_x86_64.whl (13.8 MB)\n",
      "\u001b[2K   \u001b[90m━━━━━━━━━━━━━━━━━━━━━━━━━━━━━━━━━━━━━━━━\u001b[0m \u001b[32m13.8/13.8 MB\u001b[0m \u001b[31m4.7 MB/s\u001b[0m eta \u001b[36m0:00:00\u001b[0m00:01\u001b[0m00:01\u001b[0m\n",
      "\u001b[?25hInstalling collected packages: cvxopt\n",
      "Successfully installed cvxopt-1.3.2\n",
      "Note: you may need to restart the kernel to use updated packages.\n"
     ]
    }
   ],
   "source": [
    "pip install cvxopt"
   ]
  },
  {
   "cell_type": "code",
   "execution_count": 17,
   "metadata": {},
   "outputs": [],
   "source": [
    "from cvxopt import matrix, solvers"
   ]
  },
  {
   "cell_type": "code",
   "execution_count": 49,
   "metadata": {},
   "outputs": [],
   "source": [
    "def soft_margin_svm(X, y, C):\n",
    "    \"\"\"\n",
    "    input:\n",
    "        X: training data\n",
    "        y: training labels\n",
    "        C: errors weight\n",
    "    output:\n",
    "        support_vectros: data points which are SVs of our model.\n",
    "        support_vector_labels: labels of SVs\n",
    "        support_vector_alphas: alpha coefficient of corresponding SVs \n",
    "    \"\"\"\n",
    "\n",
    "    # TODO: Write your code here\n",
    "    n_samples, n_features = X.shape\n",
    "\n",
    "    K = np.dot(X, X.T)\n",
    "    P = matrix(np.outer(y, y) * K)\n",
    "    q = matrix(-np.ones(n_samples))\n",
    "    A = matrix(y, (1, n_samples), 'd')\n",
    "    b = matrix(0.0)\n",
    "\n",
    "    G = matrix(np.vstack((-np.eye(n_samples), np.eye(n_samples))))\n",
    "    h = matrix(np.hstack((np.zeros(n_samples), np.ones(n_samples) * C)))\n",
    "\n",
    "    sol = solvers.qp(P, q, G, h, A, b)\n",
    "    alphas = np.array(sol['x'])\n",
    "\n",
    "    sv_indices = np.where(alphas > 1e-5)[0]\n",
    "    alphas = alphas[sv_indices]\n",
    "    support_vectors = X[sv_indices]\n",
    "    support_vector_labels = y[sv_indices]\n",
    "\n",
    "    return support_vectors, support_vector_labels, alphas"
   ]
  },
  {
   "cell_type": "code",
   "execution_count": 50,
   "metadata": {},
   "outputs": [
    {
     "name": "stdout",
     "output_type": "stream",
     "text": [
      "     pcost       dcost       gap    pres   dres\n",
      " 0: -6.1265e+02 -3.3971e+03  2e+04  3e+00  2e-13\n",
      " 1: -4.1824e+02 -2.2816e+03  3e+03  3e-01  1e-13\n",
      " 2: -3.9732e+02 -7.6474e+02  4e+02  3e-02  9e-14\n",
      " 3: -4.4111e+02 -5.8227e+02  2e+02  9e-03  9e-14\n",
      " 4: -4.6125e+02 -5.3708e+02  8e+01  4e-03  9e-14\n",
      " 5: -4.7293e+02 -5.1305e+02  4e+01  2e-03  9e-14\n",
      " 6: -4.7763e+02 -5.0407e+02  3e+01  1e-03  9e-14\n",
      " 7: -4.8272e+02 -4.9477e+02  1e+01  4e-04  1e-13\n",
      " 8: -4.8534e+02 -4.9054e+02  5e+00  2e-04  1e-13\n",
      " 9: -4.8671e+02 -4.8840e+02  2e+00  4e-05  1e-13\n",
      "10: -4.8718e+02 -4.8773e+02  6e-01  7e-06  1e-13\n",
      "11: -4.8738e+02 -4.8747e+02  9e-02  4e-07  1e-13\n",
      "12: -4.8742e+02 -4.8743e+02  7e-03  3e-08  1e-13\n",
      "13: -4.8742e+02 -4.8742e+02  2e-04  6e-10  1e-13\n",
      "Optimal solution found.\n"
     ]
    }
   ],
   "source": [
    "C = 1.0\n",
    "support_vectors, support_vector_labels, support_vector_alphas = soft_margin_svm(X_train_binary, y_train_binary, C)"
   ]
  },
  {
   "cell_type": "code",
   "execution_count": 51,
   "metadata": {},
   "outputs": [],
   "source": [
    "def predict_labels(x_test, support_vectors, support_vector_labels, support_vector_alphas):\n",
    "    \"\"\"\n",
    "    input:\n",
    "        x_test: test data\n",
    "        support_vectros: data points which are SVs of our model.\n",
    "        support_vector_labels: labels of SVs\n",
    "        support_vector_alphas: alpha coefficient of corresponding SVs \n",
    "    output:\n",
    "        y_pred: predictoin labels\n",
    "    \"\"\"\n",
    "    \n",
    "    # TODO: Write your code here\n",
    "    decision_function = np.zeros(len(x_test))\n",
    "    for i in range(len(x_test)):\n",
    "        for alpha, sv_label, sv in zip(support_vector_alphas, support_vector_labels, support_vectors):\n",
    "            decision_function[i] += alpha * sv_label * np.dot(sv, x_test[i])\n",
    "    y_pred = np.sign(decision_function)\n",
    "    return y_pred"
   ]
  },
  {
   "cell_type": "code",
   "execution_count": 52,
   "metadata": {},
   "outputs": [
    {
     "name": "stderr",
     "output_type": "stream",
     "text": [
      "/var/folders/px/x_b_92z578x2bzvgv8br00hm0000gn/T/ipykernel_1824/1343508123.py:16: DeprecationWarning: Conversion of an array with ndim > 0 to a scalar is deprecated, and will error in future. Ensure you extract a single element from your array before performing this operation. (Deprecated NumPy 1.25.)\n",
      "  decision_function[i] += alpha * sv_label * np.dot(sv, x_test[i])\n"
     ]
    }
   ],
   "source": [
    "y_pred = predict_labels(X_test_binary, support_vectors, support_vector_labels, support_vector_alphas)"
   ]
  },
  {
   "cell_type": "markdown",
   "metadata": {},
   "source": [
    "# Evaluation (20 points)"
   ]
  },
  {
   "cell_type": "markdown",
   "metadata": {},
   "source": [
    "Compute accuracy, balanced accuracy and plot confusion matrix of your trained model using ```Seaborn.heatmap()``` function. Use case of balanced accuracy is when dealing with imbalanced data, i.e. when one of the target classes appears a lot more than the other and it is defined by average of recall of classes. Confusion matrix is a $k\\times k$ (k is number of classes) matrix which cell ij is showing that number of data points labeld i which predicted j. For more detail of evaluation metrics you can see [here](https://neptune.ai/blog/balanced-accuracy).\n",
    "\n",
    "You may use ```scikit-learn``` library to compute these metrics."
   ]
  },
  {
   "cell_type": "code",
   "execution_count": 53,
   "metadata": {},
   "outputs": [
    {
     "name": "stdout",
     "output_type": "stream",
     "text": [
      "Accuracy:  0.8252788104089219\n",
      "Balanced Accuracy:  0.7639855133496167\n",
      "Confusion Matrix:\n",
      " [[ 96  59]\n",
      " [ 35 348]]\n"
     ]
    }
   ],
   "source": [
    "def evaluate(y_test, y_pred):\n",
    "    \"\"\"\n",
    "    input:\n",
    "        y_test: true labels\n",
    "        y_pred: predicted labels\n",
    "    output:\n",
    "        accuracy: accuracy of the model\n",
    "        balanced_accuracy: balanced accuracy of the model\n",
    "        confusion_matrix: confusion matrix of the model\n",
    "    \"\"\"\n",
    "    # TODO: Write your code here\n",
    "\n",
    "    accuracy = accuracy_score(y_test_binary, y_pred)\n",
    "    balanced_accuracy = balanced_accuracy_score(y_test_binary, y_pred)\n",
    "    confusion_mat = confusion_matrix(y_test_binary, y_pred)\n",
    "    print(\"Accuracy: \", accuracy)\n",
    "    print(\"Balanced Accuracy: \", balanced_accuracy)\n",
    "    print(\"Confusion Matrix:\\n\", confusion_mat)\n",
    "    return accuracy, balanced_accuracy, confusion_mat\n",
    "\n",
    "\n",
    "_, _, confusion_mat = evaluate(y_test_binary, y_pred)"
   ]
  },
  {
   "cell_type": "code",
   "execution_count": 54,
   "metadata": {},
   "outputs": [
    {
     "data": {
      "image/png": "[encoded data removed]",
      "text/plain": [
       "<Figure size 800x600 with 1 Axes>"
      ]
     },
     "metadata": {},
     "output_type": "display_data"
    }
   ],
   "source": [
    "plt.figure(figsize=(8, 6))\n",
    "sns.heatmap(confusion_mat, annot=True, cmap='Blues', fmt='g', cbar=False)\n",
    "plt.xlabel('Predicted Labels')\n",
    "plt.ylabel('True Labels')\n",
    "plt.title('Confusion Matrix')\n",
    "plt.show()"
   ]
  },
  {
   "cell_type": "markdown",
   "metadata": {},
   "source": [
    "# Fine-tunning (40 points)"
   ]
  },
  {
   "cell_type": "markdown",
   "metadata": {},
   "source": [
    "like what you did before, implement Soft Margin SVM but now use rbf kernel. To determine rbf $\\gamma$ parameter use validation datas and find best(best by balanced accuracy) $\\gamma$ between 0.001 , 0.01, 1, 10, 100. Not that you can't use ```scikit-learn``` library here."
   ]
  },
  {
   "cell_type": "code",
   "execution_count": 57,
   "metadata": {},
   "outputs": [],
   "source": [
    "def rbf(x1, x2, gamma=1):\n",
    "    \"\"\"\n",
    "    input:\n",
    "        x1: first vector\n",
    "        x2: second vector\n",
    "        gamma: rbf kernel parameter with defalt value 1.\n",
    "    output:\n",
    "        ouput: computed rbf of two input vectors\n",
    "    \"\"\"\n",
    "    diff = x1 - x2\n",
    "    output = np.exp(-gamma * np.dot(diff, diff))\n",
    "    return output\n",
    "\n",
    "def rbf2(x1, x2, gamma=1):\n",
    "    \"\"\"\n",
    "    input:\n",
    "        x1: first vector\n",
    "        x2: second vector\n",
    "        gamma: rbf kernel parameter with defalt value 1.\n",
    "    output:\n",
    "        ouput: computed rbf of two input vectors\n",
    "    \"\"\"\n",
    "    diff = x1 - x2\n",
    "    output = np.exp(-gamma * np.dot(diff, diff))\n",
    "    return output\n",
    "\n",
    "\n",
    "def soft_margin_svm(X, y, C, gamma=1):\n",
    "    \"\"\"\n",
    "    input:\n",
    "        X: training data\n",
    "        y: training labels\n",
    "        C: errors weight\n",
    "        gamma: rbf kernel parameter with defalt value 1.\n",
    "    output:\n",
    "        support_vectros: data points which are SVs of our model.\n",
    "        support_vector_labels: labels of SVs\n",
    "        support_vector_alphas: alpha coefficient of corresponding SVs \n",
    "    \"\"\"\n",
    "    n_samples, n_features = X.shape\n",
    "\n",
    "    K = np.zeros((n_samples, n_samples))\n",
    "    for i in range(n_samples):\n",
    "        for j in range(n_samples):\n",
    "            K[i, j] = rbf(X[i], X[j], gamma)\n",
    "\n",
    "    P = matrix(np.outer(y, y) * K)\n",
    "    q = matrix(-np.ones(n_samples))\n",
    "    A = matrix(y, (1, n_samples), 'd')\n",
    "    b = matrix(0.0)\n",
    "\n",
    "    G = matrix(np.vstack((-np.eye(n_samples), np.eye(n_samples))))\n",
    "    h = matrix(np.hstack((np.zeros(n_samples), np.ones(n_samples) * C)))\n",
    "\n",
    "    sol = solvers.qp(P, q, G, h, A, b)\n",
    "    alphas = np.array(sol['x'])\n",
    "\n",
    "    sv_indices = np.where(alphas > 1e-5)[0]\n",
    "    alphas = alphas[sv_indices]\n",
    "    support_vectors = X[sv_indices]\n",
    "    support_vector_labels = y[sv_indices]\n",
    "\n",
    "    return support_vectors, support_vector_labels, alphas\n",
    "\n",
    "def predict(support_vectors, support_vector_labels, support_vector_alphas, X, gamma=1):\n",
    "\n",
    "    y_pred = np.zeros(X.shape[0])\n",
    "    for i in range(X.shape[0]):\n",
    "        for j, alpha in enumerate(support_vector_alphas):\n",
    "            y_pred[i] += alpha * support_vector_labels[j] * rbf(support_vectors[j], X[i], gamma)\n",
    "    y_pred = np.sign(y_pred)\n",
    "    return y_pred\n"
   ]
  },
  {
   "cell_type": "code",
   "execution_count": 59,
   "metadata": {},
   "outputs": [
    {
     "name": "stdout",
     "output_type": "stream",
     "text": [
      "     pcost       dcost       gap    pres   dres\n",
      " 0: -5.7870e+02 -3.1897e+03  2e+04  3e+00  1e-14\n",
      " 1: -4.0863e+02 -2.0634e+03  2e+03  2e-01  1e-14\n",
      " 2: -4.2109e+02 -6.8997e+02  3e+02  2e-02  8e-15\n",
      " 3: -4.6476e+02 -5.9584e+02  1e+02  8e-03  8e-15\n",
      " 4: -4.8769e+02 -5.5091e+02  7e+01  3e-03  9e-15\n",
      " 5: -4.9596e+02 -5.3660e+02  4e+01  2e-03  9e-15\n",
      " 6: -5.0371e+02 -5.2370e+02  2e+01  8e-04  1e-14\n",
      " 7: -5.0860e+02 -5.1604e+02  8e+00  2e-04  1e-14\n",
      " 8: -5.1083e+02 -5.1270e+02  2e+00  4e-05  1e-14\n",
      " 9: -5.1160e+02 -5.1168e+02  8e-02  4e-07  1e-14\n",
      "10: -5.1164e+02 -5.1164e+02  6e-03  1e-08  1e-14\n",
      "11: -5.1164e+02 -5.1164e+02  3e-04  6e-10  1e-14\n",
      "Optimal solution found.\n"
     ]
    },
    {
     "name": "stderr",
     "output_type": "stream",
     "text": [
      "/var/folders/px/x_b_92z578x2bzvgv8br00hm0000gn/T/ipykernel_1824/2181154357.py:70: DeprecationWarning: Conversion of an array with ndim > 0 to a scalar is deprecated, and will error in future. Ensure you extract a single element from your array before performing this operation. (Deprecated NumPy 1.25.)\n",
      "  y_pred[i] += alpha * support_vector_labels[j] * rbf(support_vectors[j], X[i], gamma)\n"
     ]
    },
    {
     "name": "stdout",
     "output_type": "stream",
     "text": [
      "     pcost       dcost       gap    pres   dres\n",
      " 0: -3.5478e+02 -2.9645e+03  1e+04  3e+00  5e-15\n",
      " 1: -2.5774e+02 -1.8143e+03  2e+03  1e-01  3e-15\n",
      " 2: -2.7515e+02 -5.5668e+02  3e+02  2e-02  3e-15\n",
      " 3: -3.1035e+02 -4.0746e+02  1e+02  5e-03  3e-15\n",
      " 4: -3.2161e+02 -3.7676e+02  6e+01  2e-03  3e-15\n",
      " 5: -3.3186e+02 -3.4879e+02  2e+01  3e-04  4e-15\n",
      " 6: -3.3455e+02 -3.4305e+02  9e+00  1e-04  4e-15\n",
      " 7: -3.3586e+02 -3.4016e+02  4e+00  1e-14  4e-15\n",
      " 8: -3.3717e+02 -3.3810e+02  9e-01  6e-15  4e-15\n",
      " 9: -3.3735e+02 -3.3781e+02  5e-01  2e-15  4e-15\n",
      "10: -3.3755e+02 -3.3756e+02  2e-02  4e-15  4e-15\n",
      "11: -3.3755e+02 -3.3755e+02  5e-04  2e-14  4e-15\n",
      "12: -3.3755e+02 -3.3755e+02  8e-06  3e-14  4e-15\n",
      "Optimal solution found.\n"
     ]
    },
    {
     "name": "stderr",
     "output_type": "stream",
     "text": [
      "/var/folders/px/x_b_92z578x2bzvgv8br00hm0000gn/T/ipykernel_1824/2181154357.py:70: DeprecationWarning: Conversion of an array with ndim > 0 to a scalar is deprecated, and will error in future. Ensure you extract a single element from your array before performing this operation. (Deprecated NumPy 1.25.)\n",
      "  y_pred[i] += alpha * support_vector_labels[j] * rbf(support_vectors[j], X[i], gamma)\n"
     ]
    },
    {
     "name": "stdout",
     "output_type": "stream",
     "text": [
      "     pcost       dcost       gap    pres   dres\n",
      " 0: -2.4269e+02 -2.1635e+03  7e+03  2e+00  1e-15\n",
      " 1: -2.2042e+02 -1.1878e+03  1e+03  1e-01  5e-16\n",
      " 2: -2.4012e+02 -3.8481e+02  2e+02  1e-02  6e-16\n",
      " 3: -2.5620e+02 -2.8744e+02  3e+01  2e-03  4e-16\n",
      " 4: -2.6083e+02 -2.6656e+02  6e+00  2e-04  3e-16\n",
      " 5: -2.6182e+02 -2.6335e+02  2e+00  4e-05  3e-16\n",
      " 6: -2.6212e+02 -2.6241e+02  3e-01  4e-06  3e-16\n",
      " 7: -2.6218e+02 -2.6221e+02  3e-02  3e-07  3e-16\n",
      " 8: -2.6219e+02 -2.6219e+02  1e-03  9e-09  3e-16\n",
      " 9: -2.6219e+02 -2.6219e+02  3e-05  2e-10  3e-16\n",
      "Optimal solution found.\n"
     ]
    },
    {
     "name": "stderr",
     "output_type": "stream",
     "text": [
      "/var/folders/px/x_b_92z578x2bzvgv8br00hm0000gn/T/ipykernel_1824/2181154357.py:70: DeprecationWarning: Conversion of an array with ndim > 0 to a scalar is deprecated, and will error in future. Ensure you extract a single element from your array before performing this operation. (Deprecated NumPy 1.25.)\n",
      "  y_pred[i] += alpha * support_vector_labels[j] * rbf(support_vectors[j], X[i], gamma)\n"
     ]
    },
    {
     "name": "stdout",
     "output_type": "stream",
     "text": [
      "     pcost       dcost       gap    pres   dres\n",
      " 0: -4.6315e+02 -2.1251e+03  2e+03  1e-13  6e-16\n",
      " 1: -4.6963e+02 -5.0646e+02  4e+01  4e-14  4e-16\n",
      " 2: -4.7538e+02 -4.7581e+02  4e-01  8e-15  1e-16\n",
      " 3: -4.7545e+02 -4.7546e+02  4e-03  6e-15  1e-16\n",
      " 4: -4.7546e+02 -4.7546e+02  4e-05  2e-15  1e-16\n",
      "Optimal solution found.\n"
     ]
    },
    {
     "name": "stderr",
     "output_type": "stream",
     "text": [
      "/var/folders/px/x_b_92z578x2bzvgv8br00hm0000gn/T/ipykernel_1824/2181154357.py:70: DeprecationWarning: Conversion of an array with ndim > 0 to a scalar is deprecated, and will error in future. Ensure you extract a single element from your array before performing this operation. (Deprecated NumPy 1.25.)\n",
      "  y_pred[i] += alpha * support_vector_labels[j] * rbf(support_vectors[j], X[i], gamma)\n"
     ]
    },
    {
     "name": "stdout",
     "output_type": "stream",
     "text": [
      "     pcost       dcost       gap    pres   dres\n",
      " 0: -4.6331e+02 -2.1253e+03  2e+03  9e-13  3e-16\n",
      " 1: -4.6978e+02 -5.0577e+02  4e+01  6e-14  4e-16\n",
      " 2: -4.7552e+02 -4.7591e+02  4e-01  1e-14  8e-17\n",
      " 3: -4.7559e+02 -4.7559e+02  4e-03  7e-15  5e-17\n",
      " 4: -4.7559e+02 -4.7559e+02  4e-05  4e-14  2e-17\n",
      "Optimal solution found.\n"
     ]
    },
    {
     "name": "stderr",
     "output_type": "stream",
     "text": [
      "/var/folders/px/x_b_92z578x2bzvgv8br00hm0000gn/T/ipykernel_1824/2181154357.py:70: DeprecationWarning: Conversion of an array with ndim > 0 to a scalar is deprecated, and will error in future. Ensure you extract a single element from your array before performing this operation. (Deprecated NumPy 1.25.)\n",
      "  y_pred[i] += alpha * support_vector_labels[j] * rbf(support_vectors[j], X[i], gamma)\n"
     ]
    },
    {
     "name": "stdout",
     "output_type": "stream",
     "text": [
      "Best Gamma: 0.1\n"
     ]
    },
    {
     "name": "stderr",
     "output_type": "stream",
     "text": [
      "/Library/Frameworks/Python.framework/Versions/3.12/lib/python3.12/site-packages/sklearn/metrics/_classification.py:2458: UserWarning: y_pred contains classes not in y_true\n",
      "  warnings.warn(\"y_pred contains classes not in y_true\")\n"
     ]
    }
   ],
   "source": [
    "gammas = [0.01, 0.1, 1, 10, 100]\n",
    "best_gamma = None\n",
    "best_support_vectors = None\n",
    "best_support_vector_labels = None\n",
    "best_support_vector_alphas = None\n",
    "best_balanced_accuracy = 0\n",
    "# TODO: Write your code here\n",
    "\n",
    "for gamma in gammas:\n",
    "    support_vectors, support_vector_labels, support_vector_alphas = soft_margin_svm(X_train_binary, y_train_binary, C=1, gamma=gamma)\n",
    "\n",
    "    y_pred_val = predict(support_vectors, support_vector_labels, support_vector_alphas, X_val_binary, gamma)\n",
    "    balanced_acc = balanced_accuracy_score(y_val_binary, y_pred_val)\n",
    "\n",
    "    if balanced_acc > best_balanced_accuracy:\n",
    "        best_gamma = gamma\n",
    "        best_support_vectors = support_vectors\n",
    "        best_support_vector_labels = support_vector_labels\n",
    "        best_support_vector_alphas = support_vector_alphas\n",
    "        best_balanced_accuracy = balanced_acc\n",
    "\n",
    "print(\"Best Gamma:\", best_gamma)"
   ]
  },
  {
   "cell_type": "code",
   "execution_count": 60,
   "metadata": {},
   "outputs": [
    {
     "name": "stderr",
     "output_type": "stream",
     "text": [
      "/var/folders/px/x_b_92z578x2bzvgv8br00hm0000gn/T/ipykernel_1824/1343508123.py:16: DeprecationWarning: Conversion of an array with ndim > 0 to a scalar is deprecated, and will error in future. Ensure you extract a single element from your array before performing this operation. (Deprecated NumPy 1.25.)\n",
      "  decision_function[i] += alpha * sv_label * np.dot(sv, x_test[i])\n"
     ]
    },
    {
     "name": "stdout",
     "output_type": "stream",
     "text": [
      "Accuracy:  0.775092936802974\n",
      "Balanced Accuracy:  0.6442432409668997\n",
      "Confusion Matrix:\n",
      " [[ 52 103]\n",
      " [ 18 365]]\n"
     ]
    }
   ],
   "source": [
    "y_pred = predict_labels(np.array(X_test_binary), best_support_vectors, best_support_vector_labels, best_support_vector_alphas)\n",
    "_, _, confusion_mat = evaluate(y_test_binary, y_pred)"
   ]
  },
  {
   "cell_type": "markdown",
   "metadata": {},
   "source": [
    "# Multiclass SVM (30 points + 50 points optional)"
   ]
  },
  {
   "cell_type": "markdown",
   "metadata": {},
   "source": [
    "Now we want implement Multiclass SVM. Use ```SVC``` function with rbf kernel from ```scikit-learn``` package on all train datas (all six classes) and choose best hyperparameters for $C$ and $\\gamma$ between 0.01, 0.1, 1, 10, 100. After that evaluate it with your function.\n",
    "\n",
    "Note that in this example we had enough data to split them in train and validation but in case that we don't have enough data, ```scikit-learn``` has a built-in fast library named ```GridSearchCV()``` which can help us in hyperparameter tunning with cross validation."
   ]
  },
  {
   "cell_type": "code",
   "execution_count": 62,
   "metadata": {},
   "outputs": [
    {
     "name": "stdout",
     "output_type": "stream",
     "text": [
      "Best hyperparameters:  {'C': 10, 'gamma': 0.1}\n",
      "Balanced accuracy on validation set:  0.8985326020599959\n"
     ]
    }
   ],
   "source": [
    "Cs = [0.01, 0.1, 1, 10, 100]\n",
    "gammas = [0.01, 0.1, 1, 10, 100]\n",
    "\n",
    "param_grid={'C' : Cs, 'gamma': gammas}\n",
    "\n",
    "svc= SVC(kernel='rbf')\n",
    "\n",
    "grid_search= GridSearchCV(svc,param_grid,cv=5, scoring='balanced_accuracy')\n",
    "grid_search.fit(X_train_scaled,y_train)\n",
    "\n",
    "print(\"Best hyperparameters: \", grid_search.best_params_)\n",
    "\n",
    "y_pred_val = grid_search.predict(X_val_scaled)\n",
    "balanced_acc = balanced_accuracy_score(y_val, y_pred_val)\n",
    "print(\"Balanced accuracy on validation set: \", balanced_acc)"
   ]
  },
  {
   "cell_type": "markdown",
   "metadata": {},
   "source": [
    "Implement Multiclass SVM from scratch without using ready functions (optional)."
   ]
  },
  {
   "cell_type": "code",
   "execution_count": 63,
   "metadata": {},
   "outputs": [],
   "source": [
    "# TODO: Write your code here\n",
    "class SVM:\n",
    "    def __init__(self, learning_rate=0.01, lambda_param=0.01, n_iters=1000):\n",
    "        self.lr = learning_rate\n",
    "        self.lambda_param = lambda_param\n",
    "        self.n_iters = n_iters\n",
    "        self.w = None\n",
    "        self.b = None\n",
    "\n",
    "    def fit(self, X, y):\n",
    "        X = np.array(X)\n",
    "        y = np.array(y)\n",
    "        n_samples, n_features = X.shape\n",
    "        self.w = np.zeros(n_features)\n",
    "        self.b = 0\n",
    "\n",
    "        for _ in range(self.n_iters):\n",
    "            for idx, x_i in enumerate(X):\n",
    "                condition = y[idx] * (np.dot(x_i, self.w) - self.b) >= 1\n",
    "                if condition:\n",
    "                    self.w -= self.lr * (2 * self.lambda_param * self.w)\n",
    "                else:\n",
    "                    self.w -= self.lr * (2 * self.lambda_param * self.w - np.dot(x_i, y[idx]))\n",
    "                    self.b -= self.lr * y[idx]\n",
    "\n",
    "    def predict(self, X):\n",
    "        X = np.array(X)\n",
    "        return np.sign(np.dot(X, self.w) - self.b)\n",
    "\n",
    "def one_vs_rest(X, y, n_classes):\n",
    "    clfs = []\n",
    "    for i in range(n_classes):\n",
    "        clf = SVM()\n",
    "        y_i = (y == i).astype(int) * 2 - 1\n",
    "        clf.fit(X, y_i)\n",
    "        clfs.append(clf)\n",
    "\n",
    "    def predict(X):\n",
    "        scores = np.array([clf.predict(X) for clf in clfs]).T\n",
    "        return np.argmax(scores, axis=1)\n",
    "\n",
    "    return predict\n",
    "\n"
   ]
  },
  {
   "cell_type": "code",
   "execution_count": 64,
   "metadata": {},
   "outputs": [
    {
     "name": "stdout",
     "output_type": "stream",
     "text": [
      "Accuracy: 0.5282784338098198\n",
      "Classification Report:\n",
      "               precision    recall  f1-score   support\n",
      "\n",
      "         0.0       0.00      0.00      0.00         0\n",
      "         1.0       0.99      0.96      0.98       355\n",
      "         2.0       0.98      0.89      0.93       189\n",
      "         3.0       0.87      0.90      0.88       342\n",
      "         4.0       0.00      0.00      0.00       155\n",
      "         5.0       1.00      0.18      0.30       185\n",
      "         6.0       0.00      0.00      0.00       383\n",
      "\n",
      "    accuracy                           0.53      1609\n",
      "   macro avg       0.55      0.42      0.44      1609\n",
      "weighted avg       0.63      0.53      0.55      1609\n",
      "\n",
      "Confusion Matrix:\n",
      " [[  0   0   0   0   0   0   0]\n",
      " [ 10 341   0   4   0   0   0]\n",
      " [ 20   1 168   0   0   0   0]\n",
      " [ 34   0   0 308   0   0   0]\n",
      " [120   0   0  35   0   0   0]\n",
      " [146   2   4   0   0  33   0]\n",
      " [375   0   0   8   0   0   0]]\n"
     ]
    },
    {
     "name": "stderr",
     "output_type": "stream",
     "text": [
      "/Library/Frameworks/Python.framework/Versions/3.12/lib/python3.12/site-packages/sklearn/metrics/_classification.py:1509: UndefinedMetricWarning: Precision is ill-defined and being set to 0.0 in labels with no predicted samples. Use `zero_division` parameter to control this behavior.\n",
      "  _warn_prf(average, modifier, f\"{metric.capitalize()} is\", len(result))\n",
      "/Library/Frameworks/Python.framework/Versions/3.12/lib/python3.12/site-packages/sklearn/metrics/_classification.py:1509: UndefinedMetricWarning: Recall is ill-defined and being set to 0.0 in labels with no true samples. Use `zero_division` parameter to control this behavior.\n",
      "  _warn_prf(average, modifier, f\"{metric.capitalize()} is\", len(result))\n",
      "/Library/Frameworks/Python.framework/Versions/3.12/lib/python3.12/site-packages/sklearn/metrics/_classification.py:1509: UndefinedMetricWarning: Precision is ill-defined and being set to 0.0 in labels with no predicted samples. Use `zero_division` parameter to control this behavior.\n",
      "  _warn_prf(average, modifier, f\"{metric.capitalize()} is\", len(result))\n",
      "/Library/Frameworks/Python.framework/Versions/3.12/lib/python3.12/site-packages/sklearn/metrics/_classification.py:1509: UndefinedMetricWarning: Recall is ill-defined and being set to 0.0 in labels with no true samples. Use `zero_division` parameter to control this behavior.\n",
      "  _warn_prf(average, modifier, f\"{metric.capitalize()} is\", len(result))\n",
      "/Library/Frameworks/Python.framework/Versions/3.12/lib/python3.12/site-packages/sklearn/metrics/_classification.py:1509: UndefinedMetricWarning: Precision is ill-defined and being set to 0.0 in labels with no predicted samples. Use `zero_division` parameter to control this behavior.\n",
      "  _warn_prf(average, modifier, f\"{metric.capitalize()} is\", len(result))\n",
      "/Library/Frameworks/Python.framework/Versions/3.12/lib/python3.12/site-packages/sklearn/metrics/_classification.py:1509: UndefinedMetricWarning: Recall is ill-defined and being set to 0.0 in labels with no true samples. Use `zero_division` parameter to control this behavior.\n",
      "  _warn_prf(average, modifier, f\"{metric.capitalize()} is\", len(result))\n"
     ]
    }
   ],
   "source": [
    "predict_fn = one_vs_rest(X_train_scaled, y_train, 6)\n",
    "\n",
    "y_pred = predict_fn(X_test_scaled)\n",
    "\n",
    "accuracy = accuracy_score(y_test, y_pred)\n",
    "print(f'Accuracy: {accuracy}')\n",
    "\n",
    "report = classification_report(y_test, y_pred)\n",
    "print(\"Classification Report:\\n\", report)\n",
    "\n",
    "cm = confusion_matrix(y_test, y_pred)\n",
    "print(\"Confusion Matrix:\\n\", cm)"
   ]
  },
  {
   "cell_type": "markdown",
   "metadata": {},
   "source": [
    "# Different SVM Kernels (40 points)"
   ]
  },
  {
   "cell_type": "markdown",
   "metadata": {},
   "source": [
    "A kernel in SVM is like a tool that helps solve tricky problems. It lets us work in a space with many dimensions, making complex calculations easier. With kernels, we can deal with lots of dimensions, even an endless amount. Kernels are crucial for sorting data into groups and help spot patterns in the data we're looking at. They're especially good at tackling twisty problems with a straightforward approach.\n",
    "\n",
    "Sometimes, finding a straight line or flat surface to divide data isn't possible, especially as we explore more dimensions. That's where different types of SVM kernels come in handy. They transform twisty, complicated data into a simpler form that's easier to separate. In this explanation, we talk about 4 popular types of these kernels. Also in following cells you can use any package.\n",
    "\n",
    "<img src=\"./kernel.jpg\" alt=\"Types of Kernel Functions\"  align=center class=\"saturate\">"
   ]
  },
  {
   "cell_type": "markdown",
   "metadata": {},
   "source": [
    "### Linear Kernel"
   ]
  },
  {
   "cell_type": "markdown",
   "metadata": {},
   "source": [
    "This is the simplest kind of kernel, typically working in one dimension. It works best when dealing with a lot of features. Linear kernels are quicker than other types.\n",
    "\n",
    "**Formula:**\n",
    "\n",
    "$$F(x, x_j) = sum(x, x_j)$$\n",
    "\n",
    "Now Implement svc classifier using a linear kernel. Get the prediction and evaluate it by function which you implemented before. Also plot confusion matrix by `Seaborn`."
   ]
  },
  {
   "cell_type": "code",
   "execution_count": 65,
   "metadata": {},
   "outputs": [
    {
     "name": "stdout",
     "output_type": "stream",
     "text": [
      "Balanced accuracy: 0.8317854290205452\n"
     ]
    },
    {
     "data": {
      "image/png": "[encoded data removed]",
      "text/plain": [
       "<Figure size 640x480 with 2 Axes>"
      ]
     },
     "metadata": {},
     "output_type": "display_data"
    }
   ],
   "source": [
    "# TODO: Write your code here\n",
    "Cs = [0.01, 0.1, 1, 10, 100]\n",
    "\n",
    "best_balanced_acc = 0\n",
    "best_C = None\n",
    "for C in Cs:\n",
    "    clf = SVC(kernel='linear', C=C)\n",
    "    clf.fit(X_train_scaled, y_train)\n",
    "\n",
    "    y_pred = clf.predict(X_val_scaled)\n",
    "    balanced_acc = balanced_accuracy_score(y_val, y_pred)\n",
    "\n",
    "    if balanced_acc > best_balanced_acc:\n",
    "        best_balanced_acc = balanced_acc\n",
    "        best_C = C\n",
    "\n",
    "clf = SVC(kernel='linear', C=best_C)\n",
    "clf.fit(X_train_scaled, y_train)\n",
    "\n",
    "y_pred = clf.predict(X_test_scaled)\n",
    "balanced_acc = balanced_accuracy_score(y_test, y_pred)\n",
    "print('Balanced accuracy:', balanced_acc)\n",
    "\n",
    "cm = confusion_matrix(y_test, y_pred)\n",
    "sns.heatmap(cm, annot=True, fmt='d', cmap='Blues')\n",
    "plt.xlabel('Predicted label')\n",
    "plt.ylabel('True label')\n",
    "plt.show()\n"
   ]
  },
  {
   "cell_type": "markdown",
   "metadata": {},
   "source": [
    "### Gaussian RBF kernel"
   ]
  },
  {
   "cell_type": "markdown",
   "metadata": {},
   "source": [
    "This kernel is a favorite choice in SVM, especially for data that doesn't line up straight. It's great for sorting data when you don't know much about it beforehand.\n",
    "\n",
    "**Formula:**\n",
    "\n",
    "$$F(x, x_j) = \\exp{(-\\gamma ||x - xj||^2)}$$\n",
    "\n",
    "Now, configure the SVC classifier with a sigmoid kernel. Get the prediction and evaluate it by function which you implemented before. Also plot confusion matrix as previous part. "
   ]
  },
  {
   "cell_type": "code",
   "execution_count": 66,
   "metadata": {},
   "outputs": [
    {
     "name": "stdout",
     "output_type": "stream",
     "text": [
      "Balanced accuracy: 0.8652442252472811\n"
     ]
    },
    {
     "data": {
      "image/png": "[encoded data removed]",
      "text/plain": [
       "<Figure size 640x480 with 2 Axes>"
      ]
     },
     "metadata": {},
     "output_type": "display_data"
    }
   ],
   "source": [
    "# TODO: Write your code here\n",
    "Cs = [0.01, 0.1, 1, 10, 100]\n",
    "degrees = [2, 3, 4]\n",
    "\n",
    "best_balanced_acc = 0\n",
    "best_C = None\n",
    "best_degree = None\n",
    "for C in Cs:\n",
    "    for degree in degrees:\n",
    "        clf = SVC(kernel='poly', C=C, degree=degree)\n",
    "        clf.fit(X_train_scaled, y_train)\n",
    "\n",
    "        y_pred = clf.predict(X_val_scaled)\n",
    "        balanced_acc = balanced_accuracy_score(y_val, y_pred)\n",
    "\n",
    "        if balanced_acc > best_balanced_acc:\n",
    "            best_balanced_acc = balanced_acc\n",
    "            best_C = C\n",
    "            best_degree = degree\n",
    "\n",
    "clf = SVC(kernel='poly', C=best_C, degree=best_degree)\n",
    "clf.fit(X_train_scaled, y_train)\n",
    "\n",
    "y_pred = clf.predict(X_test_scaled)\n",
    "balanced_acc = balanced_accuracy_score(y_test, y_pred)\n",
    "print('Balanced accuracy:', balanced_acc)\n",
    "\n",
    "cm = confusion_matrix(y_test, y_pred)\n",
    "sns.heatmap(cm, annot=True, fmt='d', cmap='Blues')\n",
    "plt.xlabel('Predicted label')\n",
    "plt.ylabel('True label')\n",
    "plt.show()"
   ]
  },
  {
   "cell_type": "markdown",
   "metadata": {},
   "source": [
    "### Polynomial Kernel"
   ]
  },
  {
   "cell_type": "markdown",
   "metadata": {},
   "source": [
    "This is a broader version of the linear kernel. It's not as popular because it's not as quick or precise.\n",
    "\n",
    "**Formula:**\n",
    "\n",
    "$$F(x, x_j) = (x.x_j+1)^d$$\n",
    "\n",
    "Now, set up the SVC classifier using a *polynomial* kernel. Get the prediction and evaluate it by function which you implemented before. Also plot confusion matrix as previous parts."
   ]
  },
  {
   "cell_type": "code",
   "execution_count": 67,
   "metadata": {},
   "outputs": [
    {
     "name": "stdout",
     "output_type": "stream",
     "text": [
      "Balanced accuracy: 0.8652442252472811\n"
     ]
    },
    {
     "data": {
      "image/png": "[encoded data removed]",
      "text/plain": [
       "<Figure size 640x480 with 2 Axes>"
      ]
     },
     "metadata": {},
     "output_type": "display_data"
    }
   ],
   "source": [
    "# TODO: Write your code here\n",
    "Cs = [0.01, 0.1, 1, 10, 100]\n",
    "degrees = [2, 3, 4]\n",
    "\n",
    "best_balanced_acc = 0\n",
    "best_C = None\n",
    "best_degree = None\n",
    "for C in Cs:\n",
    "    for degree in degrees:\n",
    "        clf = SVC(kernel='poly', C=C, degree=degree)\n",
    "        clf.fit(X_train_scaled, y_train)\n",
    "\n",
    "        y_pred = clf.predict(X_val_scaled)\n",
    "        balanced_acc = balanced_accuracy_score(y_val, y_pred)\n",
    "\n",
    "        if balanced_acc > best_balanced_acc:\n",
    "            best_balanced_acc = balanced_acc\n",
    "            best_C = C\n",
    "            best_degree = degree\n",
    "\n",
    "clf = SVC(kernel='poly', C=best_C, degree=best_degree)\n",
    "clf.fit(X_train_scaled, y_train)\n",
    "\n",
    "y_pred = clf.predict(X_test_scaled)\n",
    "balanced_acc = balanced_accuracy_score(y_test, y_pred)\n",
    "print('Balanced accuracy:', balanced_acc)\n",
    "\n",
    "cm = confusion_matrix(y_test, y_pred)\n",
    "sns.heatmap(cm, annot=True, fmt='d', cmap='Blues')\n",
    "plt.xlabel('Predicted label')\n",
    "plt.ylabel('True label')\n",
    "plt.show()\n"
   ]
  },
  {
   "cell_type": "markdown",
   "metadata": {},
   "source": [
    "### Sigmoid Kernel"
   ]
  },
  {
   "cell_type": "markdown",
   "metadata": {},
   "source": [
    "This is mainly chosen for use with neural networks. The kernel function acts like the activation function in a two-layer perceptron neural network model, helping to activate the neurons.\n",
    "\n",
    "**Formula:**\n",
    "\n",
    "$$F(x, x_j) = \\tanh(α x a y + c)$$\n",
    "\n",
    "Now, configure the SVC classifier with a sigmoid kernel. Get the prediction and evaluate it by function which you implemented before. Also plot confusion matrix as previous parts. "
   ]
  },
  {
   "cell_type": "code",
   "execution_count": 68,
   "metadata": {},
   "outputs": [
    {
     "name": "stdout",
     "output_type": "stream",
     "text": [
      "Balanced accuracy: 0.7785962476221417\n"
     ]
    },
    {
     "data": {
      "image/png": "[encoded data removed]",
      "text/plain": [
       "<Figure size 640x480 with 2 Axes>"
      ]
     },
     "metadata": {},
     "output_type": "display_data"
    }
   ],
   "source": [
    "Cs = [0.01, 0.1, 1, 10, 100]\n",
    "gammas = [0.01, 0.1, 1, 10, 100]\n",
    "coefs = [0.1, 0.5, 1]\n",
    "\n",
    "best_balanced_acc = 0\n",
    "best_C = None\n",
    "best_gamma = None\n",
    "best_coef = None\n",
    "for C in Cs:\n",
    "    for gamma in gammas:\n",
    "        for coef in coefs:\n",
    "            clf = SVC(kernel='sigmoid', C=C, gamma=gamma, coef0=coef)\n",
    "            clf.fit(X_train_scaled, y_train)\n",
    "\n",
    "            y_pred = clf.predict(X_val_scaled)\n",
    "            balanced_acc = balanced_accuracy_score(y_val, y_pred)\n",
    "\n",
    "            if balanced_acc > best_balanced_acc:\n",
    "                best_balanced_acc = balanced_acc\n",
    "                best_C = C\n",
    "                best_gamma = gamma\n",
    "                best_coef = coef\n",
    "\n",
    "clf = SVC(kernel='sigmoid', C=best_C, gamma=best_gamma, coef0=best_coef)\n",
    "clf.fit(X_train_scaled, y_train)\n",
    "\n",
    "y_pred = clf.predict(X_test_scaled)\n",
    "balanced_acc = balanced_accuracy_score(y_test, y_pred)\n",
    "print('Balanced accuracy:', balanced_acc)\n",
    "\n",
    "cm = confusion_matrix(y_test, y_pred)\n",
    "sns.heatmap(cm, annot=True, fmt='d', cmap='Blues')\n",
    "plt.xlabel('Predicted label')\n",
    "plt.ylabel('True label')\n",
    "plt.show()\n"
   ]
  },
  {
   "cell_type": "markdown",
   "metadata": {},
   "source": [
    "Compare these four kernel functions with each other. What are the main advantages and disadvantages of each one? "
   ]
  },
  {
   "cell_type": "markdown",
   "metadata": {},
   "source": [
    "`TODO: Write Here`"
   ]
  },
  {
   "cell_type": "markdown",
   "metadata": {},
   "source": [
    "Linear Kernel:\n",
    "\n",
    "مزایا:\n",
    "\n",
    "سرعت بالا در آموزش و پیش‌بینی مدل.\n",
    "\n",
    "قابلیت استفاده در مجموعه داده‌های با ابعاد بالا.\n",
    "\n",
    "معایب:\n",
    "\n",
    "مناسب برای داده‌هایی که قابل جدا کردن با یک خط هستند.\n",
    "\n",
    "عملکرد ضعیف‌تر در مواردی که داده‌ها دارای تفکیک غیرخطی هستند."
   ]
  },
  {
   "cell_type": "markdown",
   "metadata": {},
   "source": [
    "Gaussian RBF Kernel\n",
    "\n",
    "مزایا:\n",
    "\n",
    "قابلیت مدل‌سازی داده‌های غیرخطی و پیچیده.\n",
    "\n",
    "انعطاف‌پذیری بالا در تنظیم پارامترها.\n",
    "\n",
    "معایب:\n",
    "\n",
    "نیاز به تنظیم پارامترهای هسته مانند پارامتر γ.\n",
    "\n",
    "حساسیت به اندازه‌گیری‌های نرمال‌سازی و پیش‌پردازش داده‌ها.\n"
   ]
  },
  {
   "cell_type": "markdown",
   "metadata": {},
   "source": []
  },
  {
   "cell_type": "markdown",
   "metadata": {},
   "source": [
    "Polynomial Kernel:\n",
    "\n",
    "مزایا:\n",
    "\n",
    "توانایی مدل‌سازی داده‌هایی با تفکیک غیرخطی.\n",
    "\n",
    "انعطاف‌پذیری در تنظیم پارامترهای هسته.\n",
    "\n",
    "معایب:\n",
    "\n",
    "زمان بیشتری برای آموزش و پیش‌بینی مدل نسبت به هسته‌های خطی.\n",
    "\n",
    "ممکن است در برخی موارد از دقت پایین‌تری برخوردار باشد."
   ]
  },
  {
   "cell_type": "markdown",
   "metadata": {},
   "source": [
    "Sigmoid Kernel :\n",
    "\n",
    "مزایا:\n",
    "\n",
    "قابلیت استفاده در مسائلی که از شباهت با شبکه‌های عصبی با تابع فعال‌سازی \n",
    "سیگموئیدی نیاز دارند.\n",
    "\n",
    "انعطاف‌پذیری در تنظیم پارامترهای هسته.\n",
    "\n",
    "معایب:\n",
    "\n",
    "عملکرد نسبتاً ضعیف‌تر نسبت به هسته‌های دیگر مانند گوسی RBF.\n",
    "\n",
    "نیاز به تنظیم پارامترهای هسته مانند پارامتر α و c."
   ]
  },
  {
   "cell_type": "markdown",
   "metadata": {},
   "source": []
  }
 ],
 "metadata": {
  "kernelspec": {
   "display_name": "Python 3",
   "language": "python",
   "name": "python3"
  },
  "language_info": {
   "codemirror_mode": {
    "name": "ipython",
    "version": 3
   },
   "file_extension": ".py",
   "mimetype": "text/x-python",
   "name": "python",
   "nbconvert_exporter": "python",
   "pygments_lexer": "ipython3",
   "version": "3.12.2"
  }
 },
 "nbformat": 4,
 "nbformat_minor": 2
}
